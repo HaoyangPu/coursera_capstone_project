{
    "nbformat_minor": 1, 
    "cells": [
        {
            "source": "# Cousera Capstone Final Project", 
            "cell_type": "markdown", 
            "metadata": {
                "collapsed": true
            }
        }, 
        {
            "source": "## Introduction", 
            "cell_type": "markdown", 
            "metadata": {}
        }, 
        {
            "source": "Traveling Master is an international travel agency who provides tourism products for its customers. Compared with other organizations' products, the biggest feature of Traveling Masters' is the focus on different experience. The trip provided by Traveling Master will not provide repeated experience but highly differentiated ones. For example, if someone plans to go for a 3-day trip in a city, Traveling Master will try to analyze this city and segment its neiborhoods in terms of nearby venues so that the customer and experience as many different things as he can in the limited time. This report will show one way Traveling Master uses for segementing, taking Toronto as an example.", 
            "cell_type": "markdown", 
            "metadata": {}
        }, 
        {
            "source": "## Data", 
            "cell_type": "markdown", 
            "metadata": {}
        }, 
        {
            "source": "Neighborhood segementing is the final objective for this report. During this process, first, geographical information for Toronto is needed, which will be retrieved from url: https://en.wikipedia.org/wiki/List_of_postal_codes_of_Canada:_M. Second, more data such as latitudes and longitudes will be added into data from the first step. Third, from Foursquare API, nearby venues for each neighborhood will be retrieved. Based on this information, neighborhoods would be segemented into three different categories and this information can be used by Traveling Master to plan a 3-day trip for its customer in Toronto.", 
            "cell_type": "markdown", 
            "metadata": {}
        }, 
        {
            "source": "## Methodology", 
            "cell_type": "markdown", 
            "metadata": {}
        }, 
        {
            "source": "### Data Collection", 
            "cell_type": "markdown", 
            "metadata": {}
        }, 
        {
            "source": "First I need postal code data from wikipedia and stored them into pandas dataframe. In order to do that, following steps are carried out:", 
            "cell_type": "markdown", 
            "metadata": {}
        }, 
        {
            "source": "1. Import relevant libraries", 
            "cell_type": "markdown", 
            "metadata": {}
        }, 
        {
            "execution_count": 4, 
            "cell_type": "code", 
            "metadata": {}, 
            "outputs": [], 
            "source": "import pandas as pd\nimport numpy as np\nfrom bs4 import BeautifulSoup\nimport requests\nimport csv"
        }, 
        {
            "source": "2. Retrieve data from wikipedia", 
            "cell_type": "markdown", 
            "metadata": {}
        }, 
        {
            "execution_count": 2, 
            "cell_type": "code", 
            "metadata": {}, 
            "outputs": [], 
            "source": "source = requests.get('https://en.wikipedia.org/wiki/List_of_postal_codes_of_Canada:_M').text\nsoup = BeautifulSoup(source, 'lxml')\n\ncsv_file = open('my_project.csv', 'w')\n\ncsv_writer = csv.writer(csv_file)\ncsv_writer.writerow(['Postcode', 'Borough', 'Neighborhood'])\n\ntable = soup.find('table')\nfor element in table.find_all('tr')[1:]:\n    lst = []\n    for i in element.find_all('td'):\n        lst.append(i.text.strip())\n    Postcode = lst[0]\n    Borough = lst[1]\n    Neighborhood = lst[2]\n    csv_writer.writerow([Postcode, Borough, Neighborhood])\n\ncsv_file.close()"
        }, 
        {
            "source": "3. Clean the data  \nRows with \"Not Assigned\" in \"Borough\" column would be dropped.  \nRows with \"Not Assigned\" in \"Neighborhood\" column would replace its \"Neighborhood\" value with its \"Borough\" value.  \nRows with the same postal code will be combined together.", 
            "cell_type": "markdown", 
            "metadata": {}
        }, 
        {
            "execution_count": 5, 
            "cell_type": "code", 
            "metadata": {}, 
            "outputs": [
                {
                    "output_type": "stream", 
                    "name": "stdout", 
                    "text": "(103, 3)\n"
                }, 
                {
                    "execution_count": 5, 
                    "metadata": {}, 
                    "data": {
                        "text/html": "<div>\n<style scoped>\n    .dataframe tbody tr th:only-of-type {\n        vertical-align: middle;\n    }\n\n    .dataframe tbody tr th {\n        vertical-align: top;\n    }\n\n    .dataframe thead th {\n        text-align: right;\n    }\n</style>\n<table border=\"1\" class=\"dataframe\">\n  <thead>\n    <tr style=\"text-align: right;\">\n      <th></th>\n      <th>Postcode</th>\n      <th>Borough</th>\n      <th>Neighborhood</th>\n    </tr>\n  </thead>\n  <tbody>\n    <tr>\n      <th>0</th>\n      <td>M3A</td>\n      <td>North York</td>\n      <td>Parkwoods</td>\n    </tr>\n    <tr>\n      <th>1</th>\n      <td>M4A</td>\n      <td>North York</td>\n      <td>Victoria Village</td>\n    </tr>\n    <tr>\n      <th>2</th>\n      <td>M5A</td>\n      <td>Downtown Toronto</td>\n      <td>Regent Park, Harbourfront</td>\n    </tr>\n    <tr>\n      <th>3</th>\n      <td>M6A</td>\n      <td>North York</td>\n      <td>Lawrence Manor, Lawrence Heights</td>\n    </tr>\n    <tr>\n      <th>4</th>\n      <td>M7A</td>\n      <td>Queen's Park</td>\n      <td>Queen's Park</td>\n    </tr>\n  </tbody>\n</table>\n</div>", 
                        "text/plain": "  Postcode           Borough                      Neighborhood\n0      M3A        North York                         Parkwoods\n1      M4A        North York                  Victoria Village\n2      M5A  Downtown Toronto         Regent Park, Harbourfront\n3      M6A        North York  Lawrence Manor, Lawrence Heights\n4      M7A      Queen's Park                      Queen's Park"
                    }, 
                    "output_type": "execute_result"
                }
            ], 
            "source": "df = pd.read_csv('my_project.csv')\nmissing1 = df.loc[df['Borough'] == 'Not assigned']\ndf.drop(index=missing1.index, inplace=True)\ndf.reset_index(inplace=True, drop=True)\nmissing2 = df.loc[df['Neighborhood'] == 'Not assigned']\ndf.loc[missing2.index, 'Neighborhood'] = df.loc[missing2.index, 'Borough']\npostcode_list = []\ndelete_list = []\nfor i in range(len(df)):\n    if df.loc[i, 'Postcode'] in postcode_list:\n        delete_list.append(i-1)\n        df.loc[i, 'Neighborhood'] = df.loc[i, 'Neighborhood']+', '+df.loc[i-1, 'Neighborhood']\n    else:\n        postcode_list.append(df.loc[i, 'Postcode'])\ndf.drop(index=delete_list, inplace=True)\ndf.reset_index(inplace=True, drop=True)\nprint(df.shape)\ndf.head()"
        }, 
        {
            "source": "4. Get latitude and longoitude information from an existing document", 
            "cell_type": "markdown", 
            "metadata": {}
        }, 
        {
            "execution_count": 6, 
            "cell_type": "code", 
            "metadata": {}, 
            "outputs": [
                {
                    "execution_count": 6, 
                    "metadata": {}, 
                    "data": {
                        "text/html": "<div>\n<style scoped>\n    .dataframe tbody tr th:only-of-type {\n        vertical-align: middle;\n    }\n\n    .dataframe tbody tr th {\n        vertical-align: top;\n    }\n\n    .dataframe thead th {\n        text-align: right;\n    }\n</style>\n<table border=\"1\" class=\"dataframe\">\n  <thead>\n    <tr style=\"text-align: right;\">\n      <th></th>\n      <th>Postcode</th>\n      <th>Borough</th>\n      <th>Neighborhood</th>\n      <th>Latitude</th>\n      <th>Longitude</th>\n    </tr>\n  </thead>\n  <tbody>\n    <tr>\n      <th>0</th>\n      <td>M3A</td>\n      <td>North York</td>\n      <td>Parkwoods</td>\n      <td>43.753259</td>\n      <td>-79.329656</td>\n    </tr>\n    <tr>\n      <th>1</th>\n      <td>M4A</td>\n      <td>North York</td>\n      <td>Victoria Village</td>\n      <td>43.725882</td>\n      <td>-79.315572</td>\n    </tr>\n    <tr>\n      <th>2</th>\n      <td>M5A</td>\n      <td>Downtown Toronto</td>\n      <td>Regent Park, Harbourfront</td>\n      <td>43.654260</td>\n      <td>-79.360636</td>\n    </tr>\n    <tr>\n      <th>3</th>\n      <td>M6A</td>\n      <td>North York</td>\n      <td>Lawrence Manor, Lawrence Heights</td>\n      <td>43.718518</td>\n      <td>-79.464763</td>\n    </tr>\n    <tr>\n      <th>4</th>\n      <td>M7A</td>\n      <td>Queen's Park</td>\n      <td>Queen's Park</td>\n      <td>43.662301</td>\n      <td>-79.389494</td>\n    </tr>\n  </tbody>\n</table>\n</div>", 
                        "text/plain": "  Postcode           Borough                      Neighborhood   Latitude  \\\n0      M3A        North York                         Parkwoods  43.753259   \n1      M4A        North York                  Victoria Village  43.725882   \n2      M5A  Downtown Toronto         Regent Park, Harbourfront  43.654260   \n3      M6A        North York  Lawrence Manor, Lawrence Heights  43.718518   \n4      M7A      Queen's Park                      Queen's Park  43.662301   \n\n   Longitude  \n0 -79.329656  \n1 -79.315572  \n2 -79.360636  \n3 -79.464763  \n4 -79.389494  "
                    }, 
                    "output_type": "execute_result"
                }
            ], 
            "source": "csv = pd.read_csv('http://cocl.us/Geospatial_data')\ndf = df.merge(csv, how='left', left_on='Postcode', right_on='Postal Code')\ndf.drop(columns=['Postal Code'], inplace=True)\ndf.head()"
        }, 
        {
            "source": "5. Select boroughs with \"Toronto\" in their names", 
            "cell_type": "markdown", 
            "metadata": {}
        }, 
        {
            "execution_count": 7, 
            "cell_type": "code", 
            "metadata": {}, 
            "outputs": [
                {
                    "execution_count": 7, 
                    "metadata": {}, 
                    "data": {
                        "text/html": "<div>\n<style scoped>\n    .dataframe tbody tr th:only-of-type {\n        vertical-align: middle;\n    }\n\n    .dataframe tbody tr th {\n        vertical-align: top;\n    }\n\n    .dataframe thead th {\n        text-align: right;\n    }\n</style>\n<table border=\"1\" class=\"dataframe\">\n  <thead>\n    <tr style=\"text-align: right;\">\n      <th></th>\n      <th>Postcode</th>\n      <th>Borough</th>\n      <th>Neighborhood</th>\n      <th>Latitude</th>\n      <th>Longitude</th>\n    </tr>\n  </thead>\n  <tbody>\n    <tr>\n      <th>0</th>\n      <td>M5A</td>\n      <td>Downtown Toronto</td>\n      <td>Regent Park, Harbourfront</td>\n      <td>43.654260</td>\n      <td>-79.360636</td>\n    </tr>\n    <tr>\n      <th>1</th>\n      <td>M5B</td>\n      <td>Downtown Toronto</td>\n      <td>Garden District, Ryerson</td>\n      <td>43.657162</td>\n      <td>-79.378937</td>\n    </tr>\n    <tr>\n      <th>2</th>\n      <td>M5C</td>\n      <td>Downtown Toronto</td>\n      <td>St. James Town</td>\n      <td>43.651494</td>\n      <td>-79.375418</td>\n    </tr>\n    <tr>\n      <th>3</th>\n      <td>M4E</td>\n      <td>East Toronto</td>\n      <td>The Beaches</td>\n      <td>43.676357</td>\n      <td>-79.293031</td>\n    </tr>\n    <tr>\n      <th>4</th>\n      <td>M5E</td>\n      <td>Downtown Toronto</td>\n      <td>Berczy Park</td>\n      <td>43.644771</td>\n      <td>-79.373306</td>\n    </tr>\n  </tbody>\n</table>\n</div>", 
                        "text/plain": "  Postcode           Borough               Neighborhood   Latitude  Longitude\n0      M5A  Downtown Toronto  Regent Park, Harbourfront  43.654260 -79.360636\n1      M5B  Downtown Toronto   Garden District, Ryerson  43.657162 -79.378937\n2      M5C  Downtown Toronto             St. James Town  43.651494 -79.375418\n3      M4E      East Toronto                The Beaches  43.676357 -79.293031\n4      M5E  Downtown Toronto                Berczy Park  43.644771 -79.373306"
                    }, 
                    "output_type": "execute_result"
                }
            ], 
            "source": "def isToronto(a):\n    return('Toronto' in a)\n\ntoronto = df.loc[df['Borough'].apply(isToronto)].reset_index(drop=True)\ntoronto.head()"
        }, 
        {
            "source": "### Segementing", 
            "cell_type": "markdown", 
            "metadata": {}
        }, 
        {
            "source": "1. Define Foursquare Credentials and Version", 
            "cell_type": "markdown", 
            "metadata": {}
        }, 
        {
            "execution_count": 8, 
            "cell_type": "code", 
            "metadata": {}, 
            "outputs": [], 
            "source": "CLIENT_ID = 'CP05R2FTCBQRV13QAY1S0LAV31NJTIACJXRGY22CJBQE5PMX'\nCLIENT_SECRET = 'EKARVZ5ITXOLSPPGYIETNDYJ2K3JTVF2RYNTAOABCF5DFM0I'\nVERSION = '20180605'\nLIMIT = 100\nradius = 500"
        }, 
        {
            "source": "2. Get trending information for all neighborhoods in Toronto  ", 
            "cell_type": "markdown", 
            "metadata": {}
        }, 
        {
            "execution_count": 21, 
            "cell_type": "code", 
            "metadata": {}, 
            "outputs": [
                {
                    "execution_count": 21, 
                    "metadata": {}, 
                    "data": {
                        "text/html": "<div>\n<style scoped>\n    .dataframe tbody tr th:only-of-type {\n        vertical-align: middle;\n    }\n\n    .dataframe tbody tr th {\n        vertical-align: top;\n    }\n\n    .dataframe thead th {\n        text-align: right;\n    }\n</style>\n<table border=\"1\" class=\"dataframe\">\n  <thead>\n    <tr style=\"text-align: right;\">\n      <th></th>\n      <th>Neighborhood</th>\n      <th>Neighborhood Latitude</th>\n      <th>Neighborhood Longitude</th>\n      <th>Venue</th>\n      <th>Venue Latitude</th>\n      <th>Venue Longitude</th>\n      <th>Venue Category</th>\n    </tr>\n  </thead>\n  <tbody>\n    <tr>\n      <th>0</th>\n      <td>Regent Park, Harbourfront</td>\n      <td>43.65426</td>\n      <td>-79.360636</td>\n      <td>Roselle Desserts</td>\n      <td>43.653447</td>\n      <td>-79.362017</td>\n      <td>Bakery</td>\n    </tr>\n    <tr>\n      <th>1</th>\n      <td>Regent Park, Harbourfront</td>\n      <td>43.65426</td>\n      <td>-79.360636</td>\n      <td>Tandem Coffee</td>\n      <td>43.653559</td>\n      <td>-79.361809</td>\n      <td>Coffee Shop</td>\n    </tr>\n    <tr>\n      <th>2</th>\n      <td>Regent Park, Harbourfront</td>\n      <td>43.65426</td>\n      <td>-79.360636</td>\n      <td>Toronto Cooper Koo Family Cherry St YMCA Centre</td>\n      <td>43.653191</td>\n      <td>-79.357947</td>\n      <td>Gym / Fitness Center</td>\n    </tr>\n    <tr>\n      <th>3</th>\n      <td>Regent Park, Harbourfront</td>\n      <td>43.65426</td>\n      <td>-79.360636</td>\n      <td>Morning Glory Cafe</td>\n      <td>43.653947</td>\n      <td>-79.361149</td>\n      <td>Breakfast Spot</td>\n    </tr>\n    <tr>\n      <th>4</th>\n      <td>Regent Park, Harbourfront</td>\n      <td>43.65426</td>\n      <td>-79.360636</td>\n      <td>Body Blitz Spa East</td>\n      <td>43.654735</td>\n      <td>-79.359874</td>\n      <td>Spa</td>\n    </tr>\n  </tbody>\n</table>\n</div>", 
                        "text/plain": "                Neighborhood  Neighborhood Latitude  Neighborhood Longitude  \\\n0  Regent Park, Harbourfront               43.65426              -79.360636   \n1  Regent Park, Harbourfront               43.65426              -79.360636   \n2  Regent Park, Harbourfront               43.65426              -79.360636   \n3  Regent Park, Harbourfront               43.65426              -79.360636   \n4  Regent Park, Harbourfront               43.65426              -79.360636   \n\n                                             Venue  Venue Latitude  \\\n0                                 Roselle Desserts       43.653447   \n1                                    Tandem Coffee       43.653559   \n2  Toronto Cooper Koo Family Cherry St YMCA Centre       43.653191   \n3                               Morning Glory Cafe       43.653947   \n4                              Body Blitz Spa East       43.654735   \n\n   Venue Longitude        Venue Category  \n0       -79.362017                Bakery  \n1       -79.361809           Coffee Shop  \n2       -79.357947  Gym / Fitness Center  \n3       -79.361149        Breakfast Spot  \n4       -79.359874                   Spa  "
                    }, 
                    "output_type": "execute_result"
                }
            ], 
            "source": "def getNearbyVenues(names, latitudes, longitudes, radius=500):\n    \n    venues_list=[]\n    for name, lat, lng in zip(names, latitudes, longitudes):\n        url = 'https://api.foursquare.com/v2/venues/explore?&client_id={}&client_secret={}&v={}&ll={},{}&radius={}&limit={}'.format(\n            CLIENT_ID,\n            CLIENT_SECRET,\n            VERSION,\n            lat,\n            lng,\n            radius,\n            LIMIT)\n        results = requests.get(url).json()['response']['groups'][0]['items']\n        venues_list.append([(\n            name,\n            lat,\n            lng,\n            v['venue']['name'],\n            v['venue']['location']['lat'],\n            v['venue']['location']['lng'],\n            v['venue']['categories'][0]['name']) for v in results])\n    nearby_venues = pd.DataFrame([item for venue_list in venues_list for item in venue_list])\n    nearby_venues.columns = ['Neighborhood',\n                            'Neighborhood Latitude',\n                            'Neighborhood Longitude',\n                            'Venue',\n                            'Venue Latitude',\n                            'Venue Longitude',\n                            'Venue Category']\n    return(nearby_venues)\n\ntoronto_venues = getNearbyVenues(toronto['Neighborhood'],\n                                toronto['Latitude'],\n                                toronto['Longitude']\n                                )\ntoronto_venues.head()"
        }, 
        {
            "source": "3. Analyze each neighborhood  \nGroup venue information and rank top 10 categories for each neighborhood", 
            "cell_type": "markdown", 
            "metadata": {}
        }, 
        {
            "execution_count": 22, 
            "cell_type": "code", 
            "metadata": {}, 
            "outputs": [
                {
                    "execution_count": 22, 
                    "metadata": {}, 
                    "data": {
                        "text/html": "<div>\n<style scoped>\n    .dataframe tbody tr th:only-of-type {\n        vertical-align: middle;\n    }\n\n    .dataframe tbody tr th {\n        vertical-align: top;\n    }\n\n    .dataframe thead th {\n        text-align: right;\n    }\n</style>\n<table border=\"1\" class=\"dataframe\">\n  <thead>\n    <tr style=\"text-align: right;\">\n      <th></th>\n      <th>Neighborhood</th>\n      <th>1st Most Common Venue</th>\n      <th>2nd Most Common Venue</th>\n      <th>3rd Most Common Venue</th>\n      <th>4th Moth Common Venue</th>\n      <th>5th Moth Common Venue</th>\n      <th>6th Moth Common Venue</th>\n      <th>7th Moth Common Venue</th>\n      <th>8th Moth Common Venue</th>\n      <th>9th Moth Common Venue</th>\n      <th>10th Moth Common Venue</th>\n    </tr>\n  </thead>\n  <tbody>\n    <tr>\n      <th>0</th>\n      <td>Berczy Park</td>\n      <td>Coffee Shop</td>\n      <td>Restaurant</td>\n      <td>Cocktail Bar</td>\n      <td>Caf\u00e9</td>\n      <td>Farmers Market</td>\n      <td>Pub</td>\n      <td>Seafood Restaurant</td>\n      <td>Cheese Shop</td>\n      <td>Beer Bar</td>\n      <td>Italian Restaurant</td>\n    </tr>\n    <tr>\n      <th>1</th>\n      <td>Business Reply Mail Processing Centre 969 Eastern</td>\n      <td>Yoga Studio</td>\n      <td>Garden</td>\n      <td>Pizza Place</td>\n      <td>Park</td>\n      <td>Recording Studio</td>\n      <td>Restaurant</td>\n      <td>Burrito Place</td>\n      <td>Brewery</td>\n      <td>Skate Park</td>\n      <td>Smoke Shop</td>\n    </tr>\n    <tr>\n      <th>2</th>\n      <td>Central Bay Street</td>\n      <td>Coffee Shop</td>\n      <td>Caf\u00e9</td>\n      <td>Italian Restaurant</td>\n      <td>Bar</td>\n      <td>Burger Joint</td>\n      <td>Chinese Restaurant</td>\n      <td>Indian Restaurant</td>\n      <td>Ice Cream Shop</td>\n      <td>Spa</td>\n      <td>Sandwich Place</td>\n    </tr>\n    <tr>\n      <th>3</th>\n      <td>Christie</td>\n      <td>Caf\u00e9</td>\n      <td>Grocery Store</td>\n      <td>Park</td>\n      <td>Convenience Store</td>\n      <td>Coffee Shop</td>\n      <td>Baby Store</td>\n      <td>Nightclub</td>\n      <td>Diner</td>\n      <td>Italian Restaurant</td>\n      <td>Restaurant</td>\n    </tr>\n    <tr>\n      <th>4</th>\n      <td>Church and Wellesley</td>\n      <td>Japanese Restaurant</td>\n      <td>Coffee Shop</td>\n      <td>Sushi Restaurant</td>\n      <td>Gay Bar</td>\n      <td>Restaurant</td>\n      <td>Burger Joint</td>\n      <td>Gastropub</td>\n      <td>Fast Food Restaurant</td>\n      <td>Men's Store</td>\n      <td>Caf\u00e9</td>\n    </tr>\n  </tbody>\n</table>\n</div>", 
                        "text/plain": "                                        Neighborhood 1st Most Common Venue  \\\n0                                        Berczy Park           Coffee Shop   \n1  Business Reply Mail Processing Centre 969 Eastern           Yoga Studio   \n2                                 Central Bay Street           Coffee Shop   \n3                                           Christie                  Caf\u00e9   \n4                               Church and Wellesley   Japanese Restaurant   \n\n  2nd Most Common Venue 3rd Most Common Venue 4th Moth Common Venue  \\\n0            Restaurant          Cocktail Bar                  Caf\u00e9   \n1                Garden           Pizza Place                  Park   \n2                  Caf\u00e9    Italian Restaurant                   Bar   \n3         Grocery Store                  Park     Convenience Store   \n4           Coffee Shop      Sushi Restaurant               Gay Bar   \n\n  5th Moth Common Venue 6th Moth Common Venue 7th Moth Common Venue  \\\n0        Farmers Market                   Pub    Seafood Restaurant   \n1      Recording Studio            Restaurant         Burrito Place   \n2          Burger Joint    Chinese Restaurant     Indian Restaurant   \n3           Coffee Shop            Baby Store             Nightclub   \n4            Restaurant          Burger Joint             Gastropub   \n\n  8th Moth Common Venue 9th Moth Common Venue 10th Moth Common Venue  \n0           Cheese Shop              Beer Bar     Italian Restaurant  \n1               Brewery            Skate Park             Smoke Shop  \n2        Ice Cream Shop                   Spa         Sandwich Place  \n3                 Diner    Italian Restaurant             Restaurant  \n4  Fast Food Restaurant           Men's Store                   Caf\u00e9  "
                    }, 
                    "output_type": "execute_result"
                }
            ], 
            "source": "toronto_onehot = pd.get_dummies(toronto_venues[['Venue Category']], prefix='', prefix_sep='')\ntoronto_onehot['neighborhood'] = toronto_venues['Neighborhood']\n\nfixed_columns = [toronto_onehot.columns[-1]] + list(toronto_onehot.columns[:-1])\ntoronto_onehot = toronto_onehot[fixed_columns]\n\ntoronto_grouped = toronto_onehot.groupby('neighborhood').mean().reset_index()\n\n\ndef return_most_common_venues(row, num_top_venues):\n    row_categories = row.iloc[1:]\n    row_categories_sorted = row_categories.sort_values(ascending=False)\n    return row_categories_sorted.index.values[0:num_top_venues]\n\nnum_top_venues = 10\n\nindicators = ['st', 'nd', 'rd']\n\ncolumns = ['Neighborhood']\nfor ind in np.arange(num_top_venues):\n    try:\n        columns.append('{}{} Most Common Venue'.format(ind+1, indicators[ind]))\n    except:\n        columns.append('{}th Moth Common Venue'.format(ind+1))\n        \nneighborhoods_venues_sorted = pd.DataFrame(columns=columns)\nneighborhoods_venues_sorted['Neighborhood'] = toronto_grouped['neighborhood']\n\nfor ind in np.arange(toronto_grouped.shape[0]):\n    neighborhoods_venues_sorted.iloc[ind, 1:] = return_most_common_venues(toronto_grouped.iloc[ind, :], num_top_venues)\n    \nneighborhoods_venues_sorted.head()"
        }, 
        {
            "source": "4. Cluster neighborhoods  \nHere we use KMeans method to cluster neighborhood and we want to get 3 categories.", 
            "cell_type": "markdown", 
            "metadata": {}
        }, 
        {
            "execution_count": 26, 
            "cell_type": "code", 
            "metadata": {}, 
            "outputs": [
                {
                    "execution_count": 26, 
                    "metadata": {}, 
                    "data": {
                        "text/html": "<div>\n<style scoped>\n    .dataframe tbody tr th:only-of-type {\n        vertical-align: middle;\n    }\n\n    .dataframe tbody tr th {\n        vertical-align: top;\n    }\n\n    .dataframe thead th {\n        text-align: right;\n    }\n</style>\n<table border=\"1\" class=\"dataframe\">\n  <thead>\n    <tr style=\"text-align: right;\">\n      <th></th>\n      <th>Postcode</th>\n      <th>Borough</th>\n      <th>Neighborhood</th>\n      <th>Latitude</th>\n      <th>Longitude</th>\n      <th>Cluster Labels</th>\n      <th>1st Most Common Venue</th>\n      <th>2nd Most Common Venue</th>\n      <th>3rd Most Common Venue</th>\n      <th>4th Moth Common Venue</th>\n      <th>5th Moth Common Venue</th>\n      <th>6th Moth Common Venue</th>\n      <th>7th Moth Common Venue</th>\n      <th>8th Moth Common Venue</th>\n      <th>9th Moth Common Venue</th>\n      <th>10th Moth Common Venue</th>\n    </tr>\n  </thead>\n  <tbody>\n    <tr>\n      <th>0</th>\n      <td>M5A</td>\n      <td>Downtown Toronto</td>\n      <td>Regent Park, Harbourfront</td>\n      <td>43.654260</td>\n      <td>-79.360636</td>\n      <td>0</td>\n      <td>Coffee Shop</td>\n      <td>Bakery</td>\n      <td>Park</td>\n      <td>Pub</td>\n      <td>Caf\u00e9</td>\n      <td>Restaurant</td>\n      <td>Theater</td>\n      <td>Mexican Restaurant</td>\n      <td>Breakfast Spot</td>\n      <td>Event Space</td>\n    </tr>\n    <tr>\n      <th>1</th>\n      <td>M5B</td>\n      <td>Downtown Toronto</td>\n      <td>Garden District, Ryerson</td>\n      <td>43.657162</td>\n      <td>-79.378937</td>\n      <td>0</td>\n      <td>Coffee Shop</td>\n      <td>Clothing Store</td>\n      <td>Caf\u00e9</td>\n      <td>Cosmetics Shop</td>\n      <td>Middle Eastern Restaurant</td>\n      <td>Bar</td>\n      <td>Theater</td>\n      <td>Ramen Restaurant</td>\n      <td>Plaza</td>\n      <td>Tea Room</td>\n    </tr>\n    <tr>\n      <th>2</th>\n      <td>M5C</td>\n      <td>Downtown Toronto</td>\n      <td>St. James Town</td>\n      <td>43.651494</td>\n      <td>-79.375418</td>\n      <td>0</td>\n      <td>Coffee Shop</td>\n      <td>Restaurant</td>\n      <td>Caf\u00e9</td>\n      <td>Hotel</td>\n      <td>Clothing Store</td>\n      <td>Cosmetics Shop</td>\n      <td>Bakery</td>\n      <td>Italian Restaurant</td>\n      <td>Park</td>\n      <td>Cocktail Bar</td>\n    </tr>\n    <tr>\n      <th>3</th>\n      <td>M4E</td>\n      <td>East Toronto</td>\n      <td>The Beaches</td>\n      <td>43.676357</td>\n      <td>-79.293031</td>\n      <td>0</td>\n      <td>Coffee Shop</td>\n      <td>Pub</td>\n      <td>Neighborhood</td>\n      <td>Gym / Fitness Center</td>\n      <td>Ethiopian Restaurant</td>\n      <td>Donut Shop</td>\n      <td>Dumpling Restaurant</td>\n      <td>Eastern European Restaurant</td>\n      <td>Electronics Store</td>\n      <td>Yoga Studio</td>\n    </tr>\n    <tr>\n      <th>4</th>\n      <td>M5E</td>\n      <td>Downtown Toronto</td>\n      <td>Berczy Park</td>\n      <td>43.644771</td>\n      <td>-79.373306</td>\n      <td>0</td>\n      <td>Coffee Shop</td>\n      <td>Restaurant</td>\n      <td>Cocktail Bar</td>\n      <td>Caf\u00e9</td>\n      <td>Farmers Market</td>\n      <td>Pub</td>\n      <td>Seafood Restaurant</td>\n      <td>Cheese Shop</td>\n      <td>Beer Bar</td>\n      <td>Italian Restaurant</td>\n    </tr>\n  </tbody>\n</table>\n</div>", 
                        "text/plain": "  Postcode           Borough               Neighborhood   Latitude  Longitude  \\\n0      M5A  Downtown Toronto  Regent Park, Harbourfront  43.654260 -79.360636   \n1      M5B  Downtown Toronto   Garden District, Ryerson  43.657162 -79.378937   \n2      M5C  Downtown Toronto             St. James Town  43.651494 -79.375418   \n3      M4E      East Toronto                The Beaches  43.676357 -79.293031   \n4      M5E  Downtown Toronto                Berczy Park  43.644771 -79.373306   \n\n   Cluster Labels 1st Most Common Venue 2nd Most Common Venue  \\\n0               0           Coffee Shop                Bakery   \n1               0           Coffee Shop        Clothing Store   \n2               0           Coffee Shop            Restaurant   \n3               0           Coffee Shop                   Pub   \n4               0           Coffee Shop            Restaurant   \n\n  3rd Most Common Venue 4th Moth Common Venue      5th Moth Common Venue  \\\n0                  Park                   Pub                       Caf\u00e9   \n1                  Caf\u00e9        Cosmetics Shop  Middle Eastern Restaurant   \n2                  Caf\u00e9                 Hotel             Clothing Store   \n3          Neighborhood  Gym / Fitness Center       Ethiopian Restaurant   \n4          Cocktail Bar                  Caf\u00e9             Farmers Market   \n\n  6th Moth Common Venue 7th Moth Common Venue        8th Moth Common Venue  \\\n0            Restaurant               Theater           Mexican Restaurant   \n1                   Bar               Theater             Ramen Restaurant   \n2        Cosmetics Shop                Bakery           Italian Restaurant   \n3            Donut Shop   Dumpling Restaurant  Eastern European Restaurant   \n4                   Pub    Seafood Restaurant                  Cheese Shop   \n\n  9th Moth Common Venue 10th Moth Common Venue  \n0        Breakfast Spot            Event Space  \n1                 Plaza               Tea Room  \n2                  Park           Cocktail Bar  \n3     Electronics Store            Yoga Studio  \n4              Beer Bar     Italian Restaurant  "
                    }, 
                    "output_type": "execute_result"
                }
            ], 
            "source": "from sklearn.cluster import KMeans\nkclusters = 3\ntoronto_grouped_clustering = toronto_grouped.drop('neighborhood', 1)\nkmeans = KMeans(n_clusters=kclusters, random_state=0).fit(toronto_grouped_clustering)\n\ntoronto_merged = toronto\ntoronto_merged['Cluster Labels'] = kmeans.labels_\ntoronto_merged = toronto_merged.join(neighborhoods_venues_sorted.set_index('Neighborhood'), on='Neighborhood')\ntoronto_merged.head()"
        }, 
        {
            "source": "5. Visualize segementing results", 
            "cell_type": "markdown", 
            "metadata": {}
        }, 
        {
            "execution_count": 29, 
            "cell_type": "code", 
            "metadata": {}, 
            "outputs": [
                {
                    "output_type": "stream", 
                    "name": "stdout", 
                    "text": "Fetching package metadata .............\nSolving package specifications: .\n\n# All requested packages already installed.\n# packages in environment at /opt/conda/envs/DSX-Python35:\n#\nfolium                    0.5.0                      py_0    conda-forge\nLibraries imported\n"
                }
            ], 
            "source": "import matplotlib.cm as cm\nimport matplotlib.colors as colors\nfrom sklearn.cluster import KMeans\n!conda install -c conda-forge folium=0.5.0 --yes\nimport folium\nprint('Libraries imported')\n\n\nfrom geopy.geocoders import Nominatim\naddress = 'Toronto'\n\ngeolocator = Nominatim()\nlocation = geolocator.geocode(address)\nlatitude = location.latitude\nlongitude = location.longitude\n\nmap_clusters = folium.Map(location=[latitude, longitude], zoom_start=11)\n\nx = np.arange(kclusters)\nys = [i+x+(i*x)**2 for i in range(kclusters)]\ncolors_array = cm.rainbow(np.linspace(0, 1, len(ys)))\nrainbow = [colors.rgb2hex(i) for i in colors_array]\n\nmarkers_colors = []\nfor lat, lng, poi, cluster in zip(toronto_merged['Latitude'], toronto_merged['Longitude'], toronto_merged['Neighborhood'], toronto_merged['Cluster Labels']):\n    label = folium.Popup(str(poi) + ' Cluster ' + str(cluster), parse_html=True)\n    folium.CircleMarker(\n        [lat, lng],\n        radius=5,\n        popup=label,\n        color=rainbow[cluster-1],\n        fill=True,\n        fill_color=rainbow[cluster-1],\n        fill_opacity=0.7).add_to(map_clusters)"
        }, 
        {
            "execution_count": 31, 
            "cell_type": "code", 
            "metadata": {}, 
            "outputs": [
                {
                    "execution_count": 31, 
                    "metadata": {}, 
                    "data": {
                        "text/plain": "<bound method Map.choropleth of <folium.folium.Map object at 0x7ff13c19ad68>>"
                    }, 
                    "output_type": "execute_result"
                }
            ], 
            "source": "map_clusters.choropleth"
        }, 
        {
            "execution_count": null, 
            "cell_type": "code", 
            "metadata": {}, 
            "outputs": [], 
            "source": ""
        }
    ], 
    "metadata": {
        "kernelspec": {
            "display_name": "Python 3.5", 
            "name": "python3", 
            "language": "python"
        }, 
        "language_info": {
            "mimetype": "text/x-python", 
            "nbconvert_exporter": "python", 
            "version": "3.5.5", 
            "name": "python", 
            "file_extension": ".py", 
            "pygments_lexer": "ipython3", 
            "codemirror_mode": {
                "version": 3, 
                "name": "ipython"
            }
        }
    }, 
    "nbformat": 4
}