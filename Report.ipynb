{
    "nbformat_minor": 1, 
    "cells": [
        {
            "source": "# Traveling Master Trip Planning Report", 
            "cell_type": "markdown", 
            "metadata": {
                "collapsed": true
            }
        }, 
        {
            "source": "## Introduction", 
            "cell_type": "markdown", 
            "metadata": {}
        }, 
        {
            "source": "Traveling Master is an international travel agency who provides tourism products for its customers. Compared with other organizations' products, the biggest feature of Traveling Masters' is the focus on different experience. The trip provided by Traveling Master will not provide repeated experience but highly differentiated ones. For example, if someone plans to go for a 3-day trip in a city, Traveling Master will try to analyze this city and segment its neiborhoods in terms of nearby venues so that the customer and experience as many different things as he can in the limited time. This report will show one way Traveling Master uses for segementing, taking Toronto as an example.", 
            "cell_type": "markdown", 
            "metadata": {}
        }, 
        {
            "source": "## Data", 
            "cell_type": "markdown", 
            "metadata": {}
        }, 
        {
            "source": "Neighborhood segementing is the final objective for this report. During this process, first, geographical information for Toronto is needed, which will be retrieved from url: https://en.wikipedia.org/wiki/List_of_postal_codes_of_Canada:_M. Second, more data such as latitudes and longitudes will be added into data from the first step. Third, from Foursquare API, nearby venues for each neighborhood will be retrieved. Based on this information, neighborhoods would be segemented into three different categories and this information can be used by Traveling Master to plan a 3-day trip for its customer in Toronto.", 
            "cell_type": "markdown", 
            "metadata": {}
        }, 
        {
            "source": "## Methodology", 
            "cell_type": "markdown", 
            "metadata": {}
        }, 
        {
            "source": "First, relevant data are collected, including:  \n    1. Postal code inforamtion from Wikipedia\n    2. Latitude and longitude information from an existing document\n    3. Nearby venue information from Foursquare\n\nSecond, those data are cleaned and reorganized into pandas dataframes.\n\nThird, KMeans clustering is used to segementing Toronto's neighborhoods into 3 categories.\n\n(more informaiton for this step is in the notebook) ", 
            "cell_type": "markdown", 
            "metadata": {}
        }, 
        {
            "source": "## Results", 
            "cell_type": "markdown", 
            "metadata": {}
        }, 
        {
            "source": "As we can see from the map, three categories are successfully segemented from all neighborhood.  \nAlthough it provided some information for trip planning, actually the segementation is not that strong, especially for category \"0\". It is very hard to decide where the customer should go to experience this kind of neighborhood while for the other two categories it is much easier.  ", 
            "cell_type": "markdown", 
            "metadata": {}
        }, 
        {
            "source": "## Discussion", 
            "cell_type": "markdown", 
            "metadata": {}
        }, 
        {
            "source": "There are two reasons may lead to a weak segementation:  \n1. K is not big enough  \nWe tried to use K=4, K=5 and K=6 for new segementations but they turned out to be nearly the same.\nAlthough this method doesn't solve the problem in this case, in other context where it works, it may imply that this city requires more days to explore.\n2. The segementation criteria is not that proper\nIt is tested in the first step, which means nearby venues may not be the most proper information for planning a trip. Most venues significant for residents, which are the main factors that we use to segement neighborhoods, may be meaningless to tourists. For example, tourists' experience may not be influenced that much by the number of grocery stores and hospitals but in this algorithm, they are allocated with undeserved weight.", 
            "cell_type": "markdown", 
            "metadata": {}
        }, 
        {
            "source": "## Conclusion", 
            "cell_type": "markdown", 
            "metadata": {}
        }, 
        {
            "source": "Using nearby venues to plan a trip does give us some clues while it also suffers from a weak segementation, especially in Toronto case. In future analysis, a better algorithm which can better include tourists needs should be developed to solve this problem.\nIn this case, one of the customer's possible traval route is to start at the north part neighborhoods, then go aroung Toronto University, and finally visit", 
            "cell_type": "markdown", 
            "metadata": {}
        }
    ], 
    "metadata": {
        "kernelspec": {
            "display_name": "Python 3.5", 
            "name": "python3", 
            "language": "python"
        }, 
        "language_info": {
            "mimetype": "text/x-python", 
            "nbconvert_exporter": "python", 
            "version": "3.5.5", 
            "name": "python", 
            "file_extension": ".py", 
            "pygments_lexer": "ipython3", 
            "codemirror_mode": {
                "version": 3, 
                "name": "ipython"
            }
        }
    }, 
    "nbformat": 4
}