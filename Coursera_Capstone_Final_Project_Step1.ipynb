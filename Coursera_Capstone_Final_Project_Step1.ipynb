{
    "nbformat_minor": 1, 
    "cells": [
        {
            "source": "# Cousera Capstone Final Project", 
            "cell_type": "markdown", 
            "metadata": {
                "collapsed": true
            }
        }, 
        {
            "source": "## Introduction", 
            "cell_type": "markdown", 
            "metadata": {}
        }, 
        {
            "source": "Traveling Master is an international travel agency who provides tourism products for its customers. Compared with other organizations' products, the biggest feature of Traveling Masters' is the focus on different experience. The trip provided by Traveling Master will not provide repeated experience but highly differentiated ones. For example, if someone plans to go for a 3-day trip in a city, Traveling Master will try to analyze this city and segment its neiborhoods in terms of places to go so that the customer and experience as many different things as he can in the limited time. This report will show one way Traveling Master uses for segementing, taking Toronto as an example.", 
            "cell_type": "markdown", 
            "metadata": {}
        }, 
        {
            "source": "## Data", 
            "cell_type": "markdown", 
            "metadata": {}
        }, 
        {
            "source": "Neighborhood segementing is the final objective for this report. During this process, first, geographical information for Toronto is needed, which will be retrieved from url: https://en.wikipedia.org/wiki/List_of_postal_codes_of_Canada:_M. Second, more data such as latitudes and longitudes will be added into data from the first step. Third, from Foursquare API, places to go for each neighborhood will be retrieved. Based on this information, neighborhoods would be segemented into three different categories and this information can be used by Traveling Master to plan a 3-day trip for its customer in Toronto.", 
            "cell_type": "markdown", 
            "metadata": {}
        }, 
        {
            "execution_count": null, 
            "cell_type": "code", 
            "metadata": {}, 
            "outputs": [], 
            "source": ""
        }
    ], 
    "metadata": {
        "kernelspec": {
            "display_name": "Python 3.5", 
            "name": "python3", 
            "language": "python"
        }, 
        "language_info": {
            "mimetype": "text/x-python", 
            "nbconvert_exporter": "python", 
            "version": "3.5.5", 
            "name": "python", 
            "file_extension": ".py", 
            "pygments_lexer": "ipython3", 
            "codemirror_mode": {
                "version": 3, 
                "name": "ipython"
            }
        }
    }, 
    "nbformat": 4
}